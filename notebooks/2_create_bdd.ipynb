{
 "cells": [
  {
   "cell_type": "markdown",
   "id": "5c38e090",
   "metadata": {},
   "source": [
    "# Traitement et stockage des données issues du scraping\n",
    "\n",
    "Vous avez scrapé les données du site de livres et les avez stockées dans un fichier. \n",
    "\n",
    "L'objectif de ce notebook est de créer une base de données pour y stocker ces données."
   ]
  },
  {
   "cell_type": "code",
   "execution_count": 1,
   "id": "fc007873",
   "metadata": {},
   "outputs": [],
   "source": [
    "import sqlite3\n",
    "import pandas as pd"
   ]
  },
  {
   "cell_type": "markdown",
   "id": "dd34cc58",
   "metadata": {},
   "source": [
    "Lire les données du fichier sauvegardé en utilisant pandas."
   ]
  },
  {
   "cell_type": "code",
   "execution_count": 2,
   "id": "8aa4b567",
   "metadata": {},
   "outputs": [
    {
     "name": "stdout",
     "output_type": "stream",
     "text": [
      "                                   title   price rating availability\n",
      "0                   A Light in the Attic  £51.77  Three     In stock\n",
      "1                     Tipping the Velvet  £53.74    One     In stock\n",
      "2                             Soumission  £50.10    One     In stock\n",
      "3                          Sharp Objects  £47.82   Four     In stock\n",
      "4  Sapiens: A Brief History of Humankind  £54.23   Five     In stock\n"
     ]
    }
   ],
   "source": [
    "# Lire les données du fichier que vous venez d'enregistrer\n",
    "df_books = pd.read_csv(\"df_books.csv\", encoding='utf-8')\n",
    "\n",
    "\n",
    "# Afficher les premières lignes pour vérifier\n",
    "print(df_books.head())"
   ]
  },
  {
   "cell_type": "markdown",
   "id": "56d48fb1",
   "metadata": {},
   "source": [
    "## 1. Prétraitement des données\n",
    "\n",
    "On souhaite créer la table _book_ contenant les attributs suivants : \n",
    "- id : INT, PK,\n",
    "- title : TEXT,\n",
    "- price : DECIMAL\n",
    "- availability : BOOLEAN\n",
    "- rating : INT [0:5]\n",
    "\n",
    "Vérifier les types des colonnes du dataframe."
   ]
  },
  {
   "cell_type": "code",
   "execution_count": 3,
   "id": "0505d094",
   "metadata": {},
   "outputs": [
    {
     "name": "stdout",
     "output_type": "stream",
     "text": [
      "                                   title   price rating availability\n",
      "0                   A Light in the Attic  £51.77  Three     In stock\n",
      "1                     Tipping the Velvet  £53.74    One     In stock\n",
      "2                             Soumission  £50.10    One     In stock\n",
      "3                          Sharp Objects  £47.82   Four     In stock\n",
      "4  Sapiens: A Brief History of Humankind  £54.23   Five     In stock\n",
      "\n",
      "Types de colonnes :\n",
      "title           object\n",
      "price           object\n",
      "rating          object\n",
      "availability    object\n",
      "dtype: object\n"
     ]
    }
   ],
   "source": [
    "\n",
    "\n",
    "# Vérification des types de données\n",
    "# Affiche les 5 premières lignes pour vérifier visuellement les colonnes\n",
    "print(df_books.head())\n",
    "\n",
    "# Vérifie les types de colonnes\n",
    "print(\"\\nTypes de colonnes :\")\n",
    "print(df_books.dtypes)"
   ]
  },
  {
   "cell_type": "markdown",
   "id": "1be2df09",
   "metadata": {},
   "source": [
    "Dans les cellules qui suivent, des méthodes de traitement de données sont suggérées pour donner un aperçu de ce qu'il est possible de faire avec pandas.\n",
    "\n",
    "**Il est tout à fait possible de faire autrement.**\n",
    "\n",
    "Utiliser la méthode pandas [_astype_](https://pandas.pydata.org/pandas-docs/stable/reference/api/pandas.DataFrame.astype.html) pour convertir la colonne de titre en chaîne de caractère."
   ]
  },
  {
   "cell_type": "code",
   "execution_count": 4,
   "id": "10f0638f",
   "metadata": {},
   "outputs": [],
   "source": [
    "# # Conversion de 'title' en chaîne de caractères\n",
    "# df_books[\"title\"] = df_books[\"title\"].astype(str)\n",
    "\n",
    "# # Vérification du type de la colonne 'title'\n",
    "# print(df_books[\"title\"].dtype)"
   ]
  },
  {
   "cell_type": "markdown",
   "id": "e4e6b924",
   "metadata": {},
   "source": [
    "Pour convertir la colonne de prix en nombre décimal, il est nécessaire d'utiliser une étape intermédiaire pour retirer le caractère \"£\".\n",
    "\n",
    "Il est possible par exemple d'utiliser l'attribut [.str](https://pandas.pydata.org/pandas-docs/stable/reference/api/pandas.Series.str.html) de la série \"price\"."
   ]
  },
  {
   "cell_type": "code",
   "execution_count": 5,
   "id": "5e6bd8ce",
   "metadata": {},
   "outputs": [],
   "source": [
    "# # Supprimer le symbole '£' et convertir en float\n",
    "# df_books[\"price\"] = df_books[\"price\"].str.replace(\"£\", \"\").astype(float)\n",
    "\n",
    "# # Vérification du type de la colonne 'price'\n",
    "# print(df_books[\"price\"].dtype)"
   ]
  },
  {
   "cell_type": "markdown",
   "id": "a537478f",
   "metadata": {},
   "source": [
    "Convertir la colonne `availability` en boolen (True/False).\n",
    "\n",
    "Quelles sont les valeurs possibles pour la colonne availability ?"
   ]
  },
  {
   "cell_type": "markdown",
   "id": "6c12b18a",
   "metadata": {},
   "source": [
    "Créer une fonction qui prend en entrée la valeur de `availability` et qui renvoie True ou False en fonction de la valeur d'entrée."
   ]
  },
  {
   "cell_type": "code",
   "execution_count": 6,
   "id": "679627d6",
   "metadata": {},
   "outputs": [],
   "source": [
    "# def convert_availability(value):\n",
    "#     if value == \"In stock\":\n",
    "#         return True\n",
    "#     return False\n",
    "\n",
    "# df_books[\"availability\"] = df_books[\"availability\"].apply(convert_availability)\n",
    "\n",
    "\n",
    "\n"
   ]
  },
  {
   "cell_type": "markdown",
   "id": "0dad009f",
   "metadata": {},
   "source": [
    "Utiliser la méthode [`apply`](https://pandas.pydata.org/pandas-docs/stable/reference/api/pandas.DataFrame.apply.html) pour appliquer la fonction à la colonne `availability`."
   ]
  },
  {
   "cell_type": "code",
   "execution_count": 7,
   "id": "3de7ec67",
   "metadata": {},
   "outputs": [],
   "source": [
    "# # Convertir la colonne availability en booléen (True/False)\n",
    "# # Applique la fonction 'convert_availability' à chaque valeur de la colonne 'availability'\n",
    "# # Cette fonction transforme le texte (\"In stock\", \"Out of stock\", etc.) en booléen : True ou False\n",
    "# # Exemple : \"In stock\" → True, \"Out of stock\" → False\n",
    "# df_books[\"availability\"] = df_books[\"availability\"].apply(convert_availability)\n",
    "\n",
    "# # Vérification du type de la colonne availability\n",
    "# # Affiche le type de données de la colonne 'availability' pour vérifier que la conversion a bien fonctionné\n",
    "# # Le type attendu est 'bool' (pour booléen), ce qui signifie que chaque valeur est soit True, soit False\n",
    "# print(df_books[\"availability\"].dtype)"
   ]
  },
  {
   "cell_type": "markdown",
   "id": "fd9877d9",
   "metadata": {},
   "source": [
    "Convertir la colonne _rating_ en chiffre en utilisant un dictionnaire `rating_map` et la méthode [_map_](https://pandas.pydata.org/pandas-docs/stable/reference/api/pandas.Series.map.html)."
   ]
  },
  {
   "cell_type": "code",
   "execution_count": 8,
   "id": "0d95564c",
   "metadata": {},
   "outputs": [],
   "source": [
    "# # Dictionnaire associant les notes au format texte aux valeurs numériques\n",
    "# ratings_map = {\n",
    "#     \"One\": 1,\n",
    "#     \"Two\": 2,\n",
    "#     \"Three\": 3,\n",
    "#     \"Four\": 4,\n",
    "#     \"Five\": 5\n",
    "# }\n",
    "\n",
    "# # Utilisation de .map() pour convertir les valeurs textuelles en nombres entiers\n",
    "# df_books[\"rating\"] = df_books[\"rating\"].map(ratings_map)\n",
    "\n",
    "# # Vérification du type de la colonne rating\n",
    "# print(df_books[\"rating\"].dtype)"
   ]
  },
  {
   "cell_type": "code",
   "execution_count": 9,
   "id": "69770cdf",
   "metadata": {},
   "outputs": [],
   "source": [
    "# Créer une fonction convert_types qui combine les traitements faits dans les cellules précédentes\n",
    "def convert_types(df_books: pd.DataFrame) -> pd.DataFrame:\n",
    "    \"\"\"Convert the types of the DataFrame columns to appropriate types.\n",
    "\n",
    "    - 'title' en chaîne de caractères (str)\n",
    "    - 'price' en float, sans le symbole '£'\n",
    "    - 'availability' en booléen (True si 'In stock', False sinon)\n",
    "    - 'rating' en entier (1 à 5)\n",
    "\n",
    "    Args:\n",
    "        df_books (pd.DataFrame): The DataFrame containing book data.\n",
    "\n",
    "    Returns:\n",
    "        pd.DataFrame: The DataFrame with converted types.\n",
    "    \"\"\"\n",
    "\n",
    "    # Conversion de 'title' en chaîne de caractères\n",
    "    df_books[\"title\"] = df_books[\"title\"].astype(str)\n",
    "\n",
    "    # Nettoyage et conversion de 'price' en float (suppression du symbole £)\n",
    "    df_books[\"price\"] = df_books[\"price\"].str.replace(\"£\", \"\").astype(float)\n",
    "\n",
    "    # Fonction interne pour convertir availability en booléen\n",
    "    def convert_availability(value):\n",
    "        if value == \"In stock\":\n",
    "            return True\n",
    "        return False\n",
    "\n",
    "    df_books[\"availability\"] = df_books[\"availability\"].apply(convert_availability)\n",
    "\n",
    "    # Dictionnaire de conversion pour rating\n",
    "    ratings_map = {\n",
    "        \"One\": 1,\n",
    "        \"Two\": 2,\n",
    "        \"Three\": 3,\n",
    "        \"Four\": 4,\n",
    "        \"Five\": 5\n",
    "    }\n",
    "\n",
    "    # Application de la conversion sur la colonne rating\n",
    "    df_books[\"rating\"] = df_books[\"rating\"].map(ratings_map)\n",
    "\n",
    "    return df_books\n"
   ]
  },
  {
   "cell_type": "markdown",
   "id": "b946ba92",
   "metadata": {},
   "source": [
    "---\n",
    "## 2. Insertion des données en base\n",
    "\n",
    "Dans cette section :\n",
    "- on créé une BDD sqlite  `book_store.db` (ou on se connecte à la base si elle existe déjà) en utilisant la bibliothèque python sqlite3,\n",
    "- on insère les données prétraitées dans la BDD\n",
    "\n",
    "Utiliser le [tutoriel](https://www.ionos.fr/digitalguide/sites-internet/developpement-web/sqlite3-avec-python/) pour l'utilisation de sqlite3.\n",
    "\n",
    "Utiliser la fonction pandas adaptée qui permet d'insérer un dataframe dans une BDD."
   ]
  },
  {
   "cell_type": "code",
   "execution_count": 10,
   "id": "9188c10c",
   "metadata": {},
   "outputs": [
    {
     "name": "stdout",
     "output_type": "stream",
     "text": [
      "Nombre de modifications : 1000\n"
     ]
    }
   ],
   "source": [
    "# # Création de la BDD et insertion des données\n",
    "\n",
    "# import sqlite3\n",
    "\n",
    "# # Connexion à la base (création si elle n'existe pas)\n",
    "# connection = sqlite3.connect(\"book_store.db\")\n",
    "\n",
    "# # Création du curseur pour exécuter les requêtes\n",
    "# cursor = connection.cursor()\n",
    "\n",
    "# # 2. Création de la table 'books' si elle n'existe pas déjà\n",
    "# cursor.execute(\"\"\"\n",
    "#     CREATE TABLE IF NOT EXISTS books (\n",
    "#         id INTEGER PRIMARY KEY AUTOINCREMENT,\n",
    "#         title TEXT,\n",
    "#         price REAL,\n",
    "#         availability BOOLEAN,\n",
    "#         rating INTEGER\n",
    "#     )\n",
    "# \"\"\")\n",
    "\n",
    "# # Connexion à la base SQLite\n",
    "# conn = sqlite3.connect(\"book_store.db\")\n",
    "\n",
    "# # Insérer le DataFrame dans la table 'books'\n",
    "# # if_exists='replace' : remplace la table si elle existe déjà\n",
    "# # index=False : ne pas insérer l'index du DataFrame comme colonne dans la table\n",
    "# df_books.to_sql('books', conn, if_exists='replace', index=False)\n",
    "\n",
    "# # Fermer la connexion\n",
    "# conn.close()\n",
    "\n",
    "\n",
    "\n",
    "\n",
    "\n",
    "\n",
    "# 1. Connexion (ou création) de la base de données dans un dossier spécifique\n",
    "connection = sqlite3.connect(\"book_store.db\")\n",
    "\n",
    "\n",
    "# On applique les conversions\n",
    "df_books = convert_types(df_books)\n",
    "\n",
    "# 2. Insertion du DataFrame dans la base, dans la table 'book_store'\n",
    "# - 'replace' : remplace la table si elle existe déjà\n",
    "# - index=False : ne pas insérer l’index du DataFrame comme colonne\n",
    "\n",
    "\n",
    "df_books.to_sql('book_store', connection, if_exists='replace', index=False)\n",
    "\n",
    "# 3. Vérification rapide\n",
    "print(\"Nombre de modifications :\", connection.total_changes)\n",
    "\n"
   ]
  },
  {
   "cell_type": "markdown",
   "id": "3e34bcf5",
   "metadata": {},
   "source": [
    "Vérifier le nombre de livres présents dans la BDD en utilisant sqlite3 et la requête SQL adaptée."
   ]
  },
  {
   "cell_type": "code",
   "execution_count": 11,
   "id": "5671f153",
   "metadata": {},
   "outputs": [
    {
     "name": "stdout",
     "output_type": "stream",
     "text": [
      "Nombre de livres dans la base : 1000\n"
     ]
    }
   ],
   "source": [
    "# Compter le nombre de livre dans la BDD\n",
    "# Connexion à la base de données\n",
    "\n",
    "cursor = connection.cursor()\n",
    "\n",
    "# Requête pour compter le nombre de lignes (livres) dans la table\n",
    "cursor.execute(\"SELECT COUNT(*) FROM book_store\")\n",
    "\n",
    "# Récupération du résultat\n",
    "nb_livres = cursor.fetchone()[0]\n",
    "\n",
    "# Affichage\n",
    "print(\"Nombre de livres dans la base :\", nb_livres)\n",
    "\n",
    "# Fermeture\n",
    "connection.close()"
   ]
  }
 ],
 "metadata": {
  "kernelspec": {
   "display_name": ".venv",
   "language": "python",
   "name": "python3"
  },
  "language_info": {
   "codemirror_mode": {
    "name": "ipython",
    "version": 3
   },
   "file_extension": ".py",
   "mimetype": "text/x-python",
   "name": "python",
   "nbconvert_exporter": "python",
   "pygments_lexer": "ipython3",
   "version": "3.12.3"
  }
 },
 "nbformat": 4,
 "nbformat_minor": 5
}
